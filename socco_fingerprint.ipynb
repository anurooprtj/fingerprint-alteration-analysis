{
 "cells": [
  {
   "cell_type": "code",
   "execution_count": 1,
   "metadata": {},
   "outputs": [],
   "source": [
    "import numpy as np\n",
    "np.random.seed(42)\n",
    "\n",
    "import matplotlib.pyplot as plt\n",
    "%matplotlib inline\n",
    "\n",
    "import tensorflow as tf\n",
    "from tensorflow import keras\n",
    "tf.set_random_seed(42)\n",
    "\n",
    "from imutils import paths\n",
    "import os\n",
    "\n",
    "from PIL import Image\n",
    "import glob\n",
    "\n",
    "import pandas as pd"
   ]
  },
  {
   "cell_type": "code",
   "execution_count": 2,
   "metadata": {},
   "outputs": [
    {
     "name": "stdout",
     "output_type": "stream",
     "text": [
      "Sample_files: \n",
      "['sampleData/71__M_Left_ring_finger_Zcut.pgm', 'sampleData/59__F_Left_middle_finger_Obl.pgm', 'sampleData/39__M_Right_little_finger_Obl.pgm', 'sampleData/52__M_Right_little_finger_Real.pgm', 'sampleData/26__M_Left_index_finger_Real.pgm']\n",
      "No of images: \n",
      "3976\n"
     ]
    }
   ],
   "source": [
    "imgFiles = glob.glob(\"sampleData/*.pgm\")\n",
    "\n",
    "print(\"Sample_files: \")\n",
    "print(imgFiles[:5])\n",
    "\n",
    "print(\"No of images: \")\n",
    "print(len(imgFiles))"
   ]
  },
  {
   "cell_type": "code",
   "execution_count": 3,
   "metadata": {},
   "outputs": [],
   "source": [
    "X = []\n",
    "y = []\n",
    "\n",
    "for fName in imgFiles:\n",
    "    X_i = Image.open(fName) #sampleData/17__M_Left_index_finger_Real.BMP\n",
    "    X_i = np.array(X_i.resize((64,64)))/255.0\n",
    "    eList = fName.split(os.path.sep) #['sampleData', '17_M_Left_index_finger_Real.BMP']\n",
    "    X.append(X_i)\n",
    "    label = eList[1].split('_')\n",
    "    fLabel = label[6].split('.')#['Zcut', 'pgm']\n",
    "    y.append(fLabel[0])\n",
    "    "
   ]
  },
  {
   "cell_type": "code",
   "execution_count": 4,
   "metadata": {},
   "outputs": [
    {
     "name": "stdout",
     "output_type": "stream",
     "text": [
      "{'Real', 'Zcut', 'CR', 'Obl'}\n"
     ]
    }
   ],
   "source": [
    "print(set(y))"
   ]
  },
  {
   "cell_type": "code",
   "execution_count": 5,
   "metadata": {},
   "outputs": [
    {
     "name": "stdout",
     "output_type": "stream",
     "text": [
      "{0, 1, 2, 3}\n"
     ]
    }
   ],
   "source": [
    "from sklearn.preprocessing import LabelEncoder\n",
    "\n",
    "lEncoder = LabelEncoder()\n",
    "y = lEncoder.fit_transform(y)\n",
    "\n",
    "print(set(y))"
   ]
  },
  {
   "cell_type": "code",
   "execution_count": 6,
   "metadata": {},
   "outputs": [
    {
     "name": "stdout",
     "output_type": "stream",
     "text": [
      "Encoder classes:  ['CR' 'Obl' 'Real' 'Zcut']\n"
     ]
    }
   ],
   "source": [
    "print(\"Encoder classes: \", lEncoder.classes_)"
   ]
  },
  {
   "cell_type": "code",
   "execution_count": 7,
   "metadata": {},
   "outputs": [
    {
     "name": "stdout",
     "output_type": "stream",
     "text": [
      "['CR']\n"
     ]
    }
   ],
   "source": [
    "print(lEncoder.inverse_transform([0]))"
   ]
  },
  {
   "cell_type": "code",
   "execution_count": 8,
   "metadata": {},
   "outputs": [],
   "source": [
    "X = np.array(X)\n",
    "y = np.array(y)"
   ]
  },
  {
   "cell_type": "code",
   "execution_count": 9,
   "metadata": {},
   "outputs": [
    {
     "name": "stdout",
     "output_type": "stream",
     "text": [
      "X_train.shape:  (3180, 64, 64, 1)\n",
      "X_test.shape:  (796, 64, 64, 1)\n",
      "y_train.shape (3180,)\n",
      "y_test.shape (796,)\n"
     ]
    }
   ],
   "source": [
    "from sklearn.model_selection import train_test_split\n",
    "\n",
    "X_train, X_test, y_train, y_test = train_test_split(\n",
    "    X, y, test_size = 0.2, stratify = y, random_state = 42)\n",
    "\n",
    "X_train = X_train[..., np.newaxis]\n",
    "X_test = X_test[..., np.newaxis]\n",
    "\n",
    "print(\"X_train.shape: \", X_train.shape)\n",
    "print(\"X_test.shape: \", X_test.shape)\n",
    "print(\"y_train.shape\", y_train.shape)\n",
    "print(\"y_test.shape\", y_test.shape)"
   ]
  },
  {
   "cell_type": "markdown",
   "metadata": {},
   "source": [
    "## Convolution structure"
   ]
  },
  {
   "cell_type": "code",
   "execution_count": 10,
   "metadata": {},
   "outputs": [
    {
     "name": "stdout",
     "output_type": "stream",
     "text": [
      "WARNING:tensorflow:From /home/ubuntu/miniconda3/envs/vcdl/lib/python3.6/site-packages/tensorflow/python/ops/resource_variable_ops.py:435: colocate_with (from tensorflow.python.framework.ops) is deprecated and will be removed in a future version.\n",
      "Instructions for updating:\n",
      "Colocations handled automatically by placer.\n"
     ]
    }
   ],
   "source": [
    "model_CNN = keras.models.Sequential()\n",
    "model_CNN.add(keras.layers.Conv2D(filters = 32, kernel_size = 3, padding = \"same\", \n",
    "                                 activation = \"relu\", input_shape = [64,64,1]))\n",
    "model_CNN.add(keras.layers.MaxPooling2D(pool_size = 2))\n",
    "\n",
    "model_CNN.add(keras.layers.Conv2D(filters = 64, kernel_size = 3, padding = \"same\",activation = \"relu\"))\n",
    "model_CNN.add(keras.layers.MaxPooling2D(pool_size = 2))\n",
    "\n",
    "model_CNN.add(keras.layers.Conv2D(filters = 64, kernel_size = 3, padding = \"same\", activation = \"relu\"))"
   ]
  },
  {
   "cell_type": "code",
   "execution_count": 11,
   "metadata": {},
   "outputs": [
    {
     "name": "stdout",
     "output_type": "stream",
     "text": [
      "_________________________________________________________________\n",
      "Layer (type)                 Output Shape              Param #   \n",
      "=================================================================\n",
      "conv2d (Conv2D)              (None, 64, 64, 32)        320       \n",
      "_________________________________________________________________\n",
      "max_pooling2d (MaxPooling2D) (None, 32, 32, 32)        0         \n",
      "_________________________________________________________________\n",
      "conv2d_1 (Conv2D)            (None, 32, 32, 64)        18496     \n",
      "_________________________________________________________________\n",
      "max_pooling2d_1 (MaxPooling2 (None, 16, 16, 64)        0         \n",
      "_________________________________________________________________\n",
      "conv2d_2 (Conv2D)            (None, 16, 16, 64)        36928     \n",
      "_________________________________________________________________\n",
      "flatten (Flatten)            (None, 16384)             0         \n",
      "_________________________________________________________________\n",
      "dense (Dense)                (None, 64)                1048640   \n",
      "_________________________________________________________________\n",
      "dense_1 (Dense)              (None, 32)                2080      \n",
      "_________________________________________________________________\n",
      "dense_2 (Dense)              (None, 4)                 132       \n",
      "=================================================================\n",
      "Total params: 1,106,596\n",
      "Trainable params: 1,106,596\n",
      "Non-trainable params: 0\n",
      "_________________________________________________________________\n"
     ]
    }
   ],
   "source": [
    "model_CNN.add(keras.layers.Flatten())\n",
    "model_CNN.add(keras.layers.Dense(units = 64, activation = 'relu'))\n",
    "model_CNN.add(keras.layers.Dense(units = 32, activation = 'relu'))\n",
    "model_CNN.add(keras.layers.Dense(units = 4, activation = 'softmax'))\n",
    "model_CNN.summary()"
   ]
  },
  {
   "cell_type": "code",
   "execution_count": 12,
   "metadata": {},
   "outputs": [
    {
     "name": "stdout",
     "output_type": "stream",
     "text": [
      "Train on 2862 samples, validate on 318 samples\n",
      "Epoch 1/100\n",
      "2862/2862 [==============================] - 27s 10ms/sample - loss: 1.3603 - acc: 0.2977 - val_loss: 1.3281 - val_acc: 0.3648\n",
      "Epoch 2/100\n",
      "2862/2862 [==============================] - 38s 13ms/sample - loss: 1.1960 - acc: 0.3983 - val_loss: 1.1835 - val_acc: 0.4119\n",
      "Epoch 3/100\n",
      "2862/2862 [==============================] - 49s 17ms/sample - loss: 1.1077 - acc: 0.4462 - val_loss: 1.1119 - val_acc: 0.4434\n",
      "Epoch 4/100\n",
      "2862/2862 [==============================] - 51s 18ms/sample - loss: 1.0208 - acc: 0.4986 - val_loss: 1.1083 - val_acc: 0.4906\n",
      "Epoch 5/100\n",
      "2862/2862 [==============================] - 48s 17ms/sample - loss: 0.9685 - acc: 0.5241 - val_loss: 0.9628 - val_acc: 0.5314\n",
      "Epoch 6/100\n",
      "2862/2862 [==============================] - 46s 16ms/sample - loss: 0.8686 - acc: 0.5922 - val_loss: 0.9599 - val_acc: 0.5252\n",
      "Epoch 7/100\n",
      "2862/2862 [==============================] - 53s 18ms/sample - loss: 0.7692 - acc: 0.6576 - val_loss: 0.8000 - val_acc: 0.5975\n",
      "Epoch 8/100\n",
      "2862/2862 [==============================] - 45s 16ms/sample - loss: 0.6595 - acc: 0.7089 - val_loss: 0.7379 - val_acc: 0.6667\n",
      "Epoch 9/100\n",
      "2862/2862 [==============================] - 62s 22ms/sample - loss: 0.6143 - acc: 0.7233 - val_loss: 0.7581 - val_acc: 0.6258\n",
      "Epoch 10/100\n",
      "2862/2862 [==============================] - 52s 18ms/sample - loss: 0.5434 - acc: 0.7648 - val_loss: 0.6198 - val_acc: 0.7170\n",
      "Epoch 11/100\n",
      "2862/2862 [==============================] - 48s 17ms/sample - loss: 0.4825 - acc: 0.7904 - val_loss: 0.5654 - val_acc: 0.7453\n",
      "Epoch 12/100\n",
      "2862/2862 [==============================] - 49s 17ms/sample - loss: 0.4424 - acc: 0.8211 - val_loss: 0.6876 - val_acc: 0.6824\n",
      "Epoch 13/100\n",
      "2862/2862 [==============================] - 45s 16ms/sample - loss: 0.4309 - acc: 0.8148 - val_loss: 0.5788 - val_acc: 0.7013\n",
      "Epoch 14/100\n",
      "2862/2862 [==============================] - 48s 17ms/sample - loss: 0.3840 - acc: 0.8309 - val_loss: 0.5971 - val_acc: 0.7233\n",
      "Epoch 15/100\n",
      "2862/2862 [==============================] - 53s 18ms/sample - loss: 0.3537 - acc: 0.8512 - val_loss: 0.5994 - val_acc: 0.7642\n",
      "Epoch 16/100\n",
      "2862/2862 [==============================] - 62s 22ms/sample - loss: 0.3244 - acc: 0.8721 - val_loss: 0.5263 - val_acc: 0.7799\n",
      "Epoch 17/100\n",
      "2862/2862 [==============================] - 48s 17ms/sample - loss: 0.2922 - acc: 0.8826 - val_loss: 0.5470 - val_acc: 0.7610\n",
      "Epoch 18/100\n",
      "2862/2862 [==============================] - 54s 19ms/sample - loss: 0.2824 - acc: 0.8847 - val_loss: 0.5895 - val_acc: 0.7516\n",
      "Epoch 19/100\n",
      "2862/2862 [==============================] - 49s 17ms/sample - loss: 0.2563 - acc: 0.9001 - val_loss: 0.6053 - val_acc: 0.7704\n",
      "Epoch 20/100\n",
      "2862/2862 [==============================] - 52s 18ms/sample - loss: 0.2226 - acc: 0.9140 - val_loss: 0.6285 - val_acc: 0.7736\n",
      "Epoch 21/100\n",
      "2862/2862 [==============================] - 53s 19ms/sample - loss: 0.2459 - acc: 0.8931 - val_loss: 0.5469 - val_acc: 0.7579\n"
     ]
    }
   ],
   "source": [
    "model_CNN.compile(loss = 'sparse_categorical_crossentropy', optimizer = 'adam', metrics = ['accuracy'])\n",
    "\n",
    "callbacks = [\n",
    "    keras.callbacks.EarlyStopping(patience=5),\n",
    "    keras.callbacks.ModelCheckpoint(\"soco_model.h5\", save_best_only=True),\n",
    "]\n",
    "\n",
    "history_CNN = model_CNN.fit(X_train, y_train, epochs = 100, \n",
    "                            validation_split = 0.1, batch_size = 32, \n",
    "                            callbacks = callbacks)"
   ]
  },
  {
   "cell_type": "code",
   "execution_count": 13,
   "metadata": {},
   "outputs": [],
   "source": [
    "best_model = keras.models.load_model('soco_model.h5')"
   ]
  },
  {
   "cell_type": "code",
   "execution_count": 14,
   "metadata": {},
   "outputs": [
    {
     "name": "stdout",
     "output_type": "stream",
     "text": [
      "796/796 [==============================] - 2s 3ms/sample - loss: 0.5297 - acc: 0.7940\n",
      "Test loss: 0.5297234130265126 and Test accuracy: 0.7939698696136475\n"
     ]
    }
   ],
   "source": [
    "test_loss, test_accuracy = best_model.evaluate(X_test, y_test)\n",
    "\n",
    "print(\"Test loss: {} and Test accuracy: {}\".format(test_loss, test_accuracy))"
   ]
  },
  {
   "cell_type": "code",
   "execution_count": 17,
   "metadata": {},
   "outputs": [
    {
     "data": {
      "image/png": "[encoded data removed]",
      "text/plain": [
       "<Figure size 432x288 with 1 Axes>"
      ]
     },
     "metadata": {
      "needs_background": "light"
     },
     "output_type": "display_data"
    }
   ],
   "source": [
    "pd.DataFrame(history_CNN.history).plot()\n",
    "plt.grid(True)\n",
    "plt.xlabel('epochs')\n",
    "plt.ylabel(\"loss/accuracy\")\n",
    "plt.title(\"Training and Validation plot\")\n",
    "plt.show()"
   ]
  },
  {
   "cell_type": "code",
   "execution_count": null,
   "metadata": {},
   "outputs": [],
   "source": []
  }
 ],
 "metadata": {
  "kernelspec": {
   "display_name": "Python 3",
   "language": "python",
   "name": "python3"
  },
  "language_info": {
   "codemirror_mode": {
    "name": "ipython",
    "version": 3
   },
   "file_extension": ".py",
   "mimetype": "text/x-python",
   "name": "python",
   "nbconvert_exporter": "python",
   "pygments_lexer": "ipython3",
   "version": "3.6.7"
  }
 },
 "nbformat": 4,
 "nbformat_minor": 2
}
